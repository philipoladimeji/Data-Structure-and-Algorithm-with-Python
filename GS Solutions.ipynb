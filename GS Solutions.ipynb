{
 "cells": [
  {
   "cell_type": "code",
   "execution_count": 1,
   "metadata": {},
   "outputs": [
    {
     "name": "stdout",
     "output_type": "stream",
     "text": [
      "['4', '224', '12', '83', '65', '02', '50', '023']\n"
     ]
    }
   ],
   "source": [
    "# A Strange Sorting Problem\n",
    "\n",
    "m = [2,1,4,8,6,3,0,9,7,5]\n",
    "n = ['12','02','4','023','65','83','224','50']\n",
    "\n",
    "def converter(m, n):\n",
    "    arr = []\n",
    "    dic = {}\n",
    "    string = ','.join(n) + ','\n",
    "    a = ''\n",
    "    count = 0\n",
    "    for i in string:\n",
    "        if i == ',':\n",
    "            dic[n[count]] = int(a)\n",
    "            count += 1\n",
    "            a = ''\n",
    "        else:\n",
    "            a += str(m.index(int(i)))\n",
    "    n.sort(key=dic.get)\n",
    "    print(n)\n",
    "    \n",
    "converter(m, n)"
   ]
  },
  {
   "cell_type": "code",
   "execution_count": 4,
   "metadata": {},
   "outputs": [],
   "source": [
    "# Grid Game\n",
    "\n",
    "def gridGame(grid, k, rules):\n",
    "    for i in range(k): grid = nextGrid(grid, rules)\n",
    "    return grid\n",
    "\n",
    "def nextGrid(grid, rules):\n",
    "    grid_ = []\n",
    "    for row in range(len(grid)):\n",
    "        grid_.append([])\n",
    "        for column in range(len(grid[0])):\n",
    "            count = accessGrid(grid, row-1, column-1) + \\\n",
    "                    accessGrid(grid, row-1, column) + \\\n",
    "                    accessGrid(grid, row-1, column+1) + \\\n",
    "                    accessGrid(grid, row, column-1) + \\\n",
    "                    accessGrid(grid, row, column+1) + \\\n",
    "                    accessGrid(grid, row+1, column-1) + \\\n",
    "                    accessGrid(grid, row+1, column) + \\\n",
    "                    accessGrid(grid, row+1, column+1)\n",
    "            grid_[row].append(1 if rules[count] == 'alive' else 0)\n",
    "    return grid_\n",
    "\n",
    "def accessGrid(grid, row, column):\n",
    "    if 0 <= row < len(grid) and 0 <= column < len(grid[0]):\n",
    "        return grid[row][column]\n",
    "    else: return 0 "
   ]
  },
  {
   "cell_type": "code",
   "execution_count": 5,
   "metadata": {},
   "outputs": [
    {
     "name": "stdout",
     "output_type": "stream",
     "text": [
      "1\n"
     ]
    }
   ],
   "source": [
    "\n",
    "\n",
    "import string\n",
    "\n",
    "def maxLCS(input_string):\n",
    "    maxlen = -1\n",
    "    count = 0\n",
    "    d1 = dict.fromkeys(string.ascii_lowercase, 0)\n",
    "    d2 = dict.fromkeys(string.ascii_lowercase, 0)\n",
    "    for c in input_string:\n",
    "        d2[c] += 1\n",
    "    for i in range(len(input_string)):\n",
    "        c = input_string[i]\n",
    "        k1, k2 = d1[c], d2[c]-1\n",
    "        if k1 < k2: count += 1\n",
    "        elif k1 > k2: count -= 1\n",
    "        d1[c] += 1\n",
    "        d2[c] -= 1\n",
    "        maxlen = count if count > maxlen else maxlen\n",
    "    return maxlen\n",
    "\n",
    "print(maxLCS('abccfghee'))"
   ]
  },
  {
   "cell_type": "code",
   "execution_count": 7,
   "metadata": {},
   "outputs": [
    {
     "name": "stdout",
     "output_type": "stream",
     "text": [
      "2\n"
     ]
    }
   ],
   "source": [
    "from collections import Counter\n",
    "n= 5\n",
    "c = [0, 4]\n",
    "arr = [x for x in range(n)]\n",
    "max_val = -1\n",
    "c.sort()\n",
    "if c[0] > max_val:\n",
    "    max_val = c[0]\n",
    "for ind in range(len(c)-1):\n",
    "    ans = (c[ind + 1] - c[ind] ) // 2\n",
    "    if ans > max_val:\n",
    "        max_val = ans\n",
    "if n-c[-1]-1 > max_val:\n",
    "    max_val = n-c[-1]-1\n",
    "print(max_val)"
   ]
  },
  {
   "cell_type": "code",
   "execution_count": 2,
   "metadata": {},
   "outputs": [
    {
     "name": "stdout",
     "output_type": "stream",
     "text": [
      "['7.86', '7.71']\n"
     ]
    }
   ],
   "source": [
    "# Weekly Stock Prices\n",
    "\n",
    "dailyPrice = [7,8,8,11,9,7,5,6]\n",
    "averages = []\n",
    "for i in range(len(dailyPrice)-6): averages.append(str(\"%.2f\" % round(sum(dailyPrice[i:i+7])/7, 2)))\n",
    "print(averages)"
   ]
  },
  {
   "cell_type": "code",
   "execution_count": 9,
   "metadata": {},
   "outputs": [
    {
     "name": "stdout",
     "output_type": "stream",
     "text": [
      "1\n"
     ]
    }
   ],
   "source": [
    "import math\n",
    "\n",
    "values = [[78,81,82,69], [74,92,75,73], [73,88,99,80]]\n",
    "rank = 2\n",
    "\n",
    "l = len(values)\n",
    "k = 10**math.ceil(math.log10(l))\n",
    "arr = [(i, sum(values[i])) for i in range(l)]\n",
    "arr.sort(key=lambda x: x[1]*k + (l-x[0]), reverse=True)\n",
    "print(arr[rank-1][0])"
   ]
  },
  {
   "cell_type": "code",
   "execution_count": 8,
   "metadata": {},
   "outputs": [
    {
     "name": "stdout",
     "output_type": "stream",
     "text": [
      "3\n"
     ]
    }
   ],
   "source": [
    "arr = [[3,7,5,3,4,5], [4,5,2,6,5,4], [7,4,9,7,8,3]]\n",
    "dic = {'tom': 0, 'jerry': 0}\n",
    "tom = True\n",
    "jerry = False\n",
    "new_arr = zip(*arr)\n",
    "a = list(new_arr)\n",
    "arr = [max(i) for i in a]\n",
    "\n",
    "while arr != []:\n",
    "    maxi = max(arr)\n",
    "    if tom:\n",
    "        dic['tom'] += maxi\n",
    "        arr.remove(maxi)\n",
    "    else:\n",
    "        dic['jerry'] += maxi\n",
    "        arr.remove(maxi)\n",
    "    tom, jerry = jerry, tom\n",
    "        \n",
    "print(abs(dic['tom']-dic['jerry']))"
   ]
  },
  {
   "cell_type": "code",
   "execution_count": 1,
   "metadata": {},
   "outputs": [],
   "source": [
    "## rotate the string\n",
    "def rotateTheString(originalString, direction, amount):\n",
    "    k = sum([(1 if direction[i] == 0 else -1)*amount[i] for i in range(len(amount))])\n",
    "    k = (-1 if k < 0 else 1) * (abs(k) % len(originalString))\n",
    "    return originalString[k:] + originalString[:k]"
   ]
  },
  {
   "cell_type": "code",
   "execution_count": 7,
   "metadata": {},
   "outputs": [
    {
     "name": "stdout",
     "output_type": "stream",
     "text": [
      "30\n"
     ]
    }
   ],
   "source": [
    "# Share Purchases\n",
    "\n",
    "import timeit\n",
    "def check(s):\n",
    "    a=[]\n",
    "    for i in \"ABC\":\n",
    "        try:\n",
    "            a.append(s.index(i))\n",
    "            pass\n",
    "        except:\n",
    "            continue\n",
    "    return(a)   \n",
    "#s = 'ABBCZBAC'\n",
    "s = 'ZDEEACEBDFBEC'\n",
    "\n",
    "def check_string(s):\n",
    "    count = 0\n",
    "    s=[i for i in s]\n",
    "    idx=check(s)\n",
    "#     print(idx)\n",
    "    while len(idx)>2:\n",
    "#         print(s)\n",
    "        maxi=max(idx)\n",
    "        mini=min(idx)\n",
    "        count+=len(s[maxi:])+len(s[:mini])*len(s[maxi:])\n",
    "        s=s[mini+1:]\n",
    "        idx=check(s)\n",
    "    return(count)\n",
    "print(check_string(s))"
   ]
  },
  {
   "cell_type": "code",
   "execution_count": null,
   "metadata": {},
   "outputs": [],
   "source": []
  }
 ],
 "metadata": {
  "kernelspec": {
   "display_name": "Python 3",
   "language": "python",
   "name": "python3"
  },
  "language_info": {
   "codemirror_mode": {
    "name": "ipython",
    "version": 3
   },
   "file_extension": ".py",
   "mimetype": "text/x-python",
   "name": "python",
   "nbconvert_exporter": "python",
   "pygments_lexer": "ipython3",
   "version": "3.6.5"
  }
 },
 "nbformat": 4,
 "nbformat_minor": 2
}
